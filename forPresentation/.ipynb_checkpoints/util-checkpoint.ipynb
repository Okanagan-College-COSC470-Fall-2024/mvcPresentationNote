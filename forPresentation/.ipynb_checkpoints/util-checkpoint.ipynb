{
 "cells": [
  {
   "cell_type": "code",
   "execution_count": 10,
   "id": "57aa655b-6c96-4e81-a6f1-ffcb29cc425a",
   "metadata": {},
   "outputs": [],
   "source": [
    "import java.io.BufferedReader;\n",
    "import java.io.IOException;\n",
    "import java.io.InputStreamReader;\n",
    "import java.net.ServerSocket;\n",
    "import java.net.Socket;\n",
    "\n",
    "public class MessageServer {\n",
    "    public static void main(String[] args) {\n",
    "        int port = 12345; // Define the port on which the server will listen\n",
    "        boolean keepAlive = true;\n",
    "        try (ServerSocket serverSocket = new ServerSocket(port)) {\n",
    "            System.out.println(\"Server is listening on port \" + port);\n",
    "\n",
    "            while (keepAlive) { // Server runs continuously\n",
    "                Socket socket = serverSocket.accept(); // Accept an incoming connection\n",
    "                try (BufferedReader input = new BufferedReader(new InputStreamReader(socket.getInputStream()))) {\n",
    "                    System.out.println(\"New client connected\");\n",
    "\n",
    "                    String message;\n",
    "                    while ((message = input.readLine()) != null) { // Keep reading until client disconnects\n",
    "                        System.out.println(\"Received: \" + message);\n",
    "\n",
    "                        if (message.equalsIgnoreCase(\"exit\")) {\n",
    "                            System.out.println(\"Client initiated connection close\");\n",
    "                            keepAlive = false;\n",
    "                            break; // Exit the read loop, closing the socket\n",
    "                        }\n",
    "\n",
    "                        // Process the received message using nested if-else logic\n",
    "                        if (message.equals(\"example\")) {\n",
    "                            if (message.length() > 5) {\n",
    "                                System.out.println(\"Complex logic for example, long message\");\n",
    "                            } else {\n",
    "                                System.out.println(\"Complex logic for example, short message\");\n",
    "                            }\n",
    "                        } else if (message.equals(\"test\")) {\n",
    "                            if (message.contains(\"t\")) {\n",
    "                                System.out.println(\"Complex logic for test containing 't'\");\n",
    "                            } else {\n",
    "                                System.out.println(\"Alternative complex logic for test not containing 't'\");\n",
    "                            }\n",
    "                        } else if (message.equals(\"hello\")) {\n",
    "                            if (message.startsWith(\"h\")) {\n",
    "                                System.out.println(\"Complex logic for hello starting with 'h'\");\n",
    "                            } else {\n",
    "                                System.out.println(\"Alternative complex logic for hello not starting with 'h'\");\n",
    "                            }\n",
    "                        } else {\n",
    "                            System.out.println(\"Complex logic when no conditions are met\");\n",
    "                        }\n",
    "                    }\n",
    "                } catch (IOException e) {\n",
    "                    System.out.println(\"Exception caught when listening for a connection\");\n",
    "                    System.out.println(e.getMessage());\n",
    "                } finally {\n",
    "                    socket.close(); // Close the socket once the client disconnects or sends \"exit\"\n",
    "                }\n",
    "            }\n",
    "        } catch (IOException e) {\n",
    "            System.out.println(\"Could not listen on port: \" + port);\n",
    "            System.out.println(e.getMessage());\n",
    "        }\n",
    "        System.out.println(\"Shutting down the server ...\");\n",
    "    }\n",
    "    \n",
    "}"
   ]
  },
  {
   "cell_type": "code",
   "execution_count": 11,
   "id": "57ab6d3d-7cfa-4f29-9813-f4e9271b2932",
   "metadata": {},
   "outputs": [
    {
     "name": "stdout",
     "output_type": "stream",
     "text": [
      "Server is listening on port 12345\n",
      "New client connected\n",
      "Received: exit\n",
      "Client initiated connection close\n",
      "Shutting down the server ...\n"
     ]
    }
   ],
   "source": [
    "MessageServer server = new MessageServer();\n",
    "server.main(null);"
   ]
  },
  {
   "cell_type": "code",
   "execution_count": 8,
   "id": "802221be-d3da-4488-814b-27a8df540446",
   "metadata": {},
   "outputs": [
    {
     "name": "stdout",
     "output_type": "stream",
     "text": [
      "0\n"
     ]
    }
   ],
   "source": [
    "//Check default values\n",
    "System.out.println(jack.x);"
   ]
  },
  {
   "cell_type": "code",
   "execution_count": 17,
   "id": "942aea0a-d0d4-423e-aad3-d91a0384038d",
   "metadata": {},
   "outputs": [
    {
     "data": {
      "text/plain": [
       "3"
      ]
     },
     "execution_count": 17,
     "metadata": {},
     "output_type": "execute_result"
    }
   ],
   "source": [
    "jack.name = \"Jack\";\n",
    "jack.weight = 12.5;\n",
    "jack.x = 2;\n",
    "jack.y = 3;"
   ]
  },
  {
   "cell_type": "code",
   "execution_count": 18,
   "id": "0cacf921-2a8c-4fbd-bff9-cb2cd979560a",
   "metadata": {},
   "outputs": [
    {
     "name": "stdout",
     "output_type": "stream",
     "text": [
      "The weight of jack is 12.500000"
     ]
    },
    {
     "data": {
      "text/plain": [
       "java.io.PrintStream@32010658"
      ]
     },
     "execution_count": 18,
     "metadata": {},
     "output_type": "execute_result"
    }
   ],
   "source": [
    "System.out.printf(\"The weight of jack is %f\", jack.weight);"
   ]
  },
  {
   "cell_type": "code",
   "execution_count": null,
   "id": "09538eb4-0e36-44f1-a890-28eb9b03d2b1",
   "metadata": {},
   "outputs": [],
   "source": []
  },
  {
   "cell_type": "code",
   "execution_count": null,
   "id": "093fc308-9116-4131-9c30-663d57d81f88",
   "metadata": {},
   "outputs": [],
   "source": []
  },
  {
   "cell_type": "code",
   "execution_count": 9,
   "id": "d3a7d191-2f68-4cff-adc0-539869cbc674",
   "metadata": {},
   "outputs": [
    {
     "data": {
      "text/plain": [
       "[0, 0, 0, 0]"
      ]
     },
     "execution_count": 9,
     "metadata": {},
     "output_type": "execute_result"
    }
   ],
   "source": [
    "//Show the defaulf of an array\n",
    "import java.util.Arrays;\n",
    "int[] a = new int[4];\n",
    "Arrays.toString(a);"
   ]
  },
  {
   "cell_type": "code",
   "execution_count": 13,
   "id": "78b77278-5a2c-4b08-b377-322521ba18c8",
   "metadata": {},
   "outputs": [],
   "source": [
    "//Show we can define and instanciate in two lines\n",
    "Farmer f2;\n",
    "f2 = new Farmer();"
   ]
  },
  {
   "cell_type": "code",
   "execution_count": 14,
   "id": "d6ab6a16-ae33-4424-a9ae-d16aa4744895",
   "metadata": {},
   "outputs": [
    {
     "name": "stdout",
     "output_type": "stream",
     "text": [
      "REPL.$JShell$12$Farmer@784b1d62\n"
     ]
    }
   ],
   "source": [
    "//Show variables are reference\n",
    "System.out.println(jack);"
   ]
  },
  {
   "cell_type": "code",
   "execution_count": null,
   "id": "4c0e544f-7cca-476f-ab67-031eaf26ad15",
   "metadata": {},
   "outputs": [],
   "source": [
    "//Getting back to slides\n"
   ]
  },
  {
   "cell_type": "code",
   "execution_count": null,
   "id": "abaf0d46-f7de-48f4-a909-7f9063e42f95",
   "metadata": {},
   "outputs": [],
   "source": []
  },
  {
   "cell_type": "code",
   "execution_count": 27,
   "id": "4abdc69b-145f-4b0a-b23c-9bd2be7bf6a3",
   "metadata": {},
   "outputs": [],
   "source": [
    "//Implement behaviour\n",
    "\n",
    "public class Farmer{\n",
    "    String name;\n",
    "    double weight;\n",
    "    int x, y;\n",
    "    \n",
    "    public void moveUp(){\n",
    "        y++;\n",
    "    }\n",
    "    public void moveDown(){\n",
    "        y--;\n",
    "    }\n",
    "    public void moveRight(){\n",
    "        x++;\n",
    "    }\n",
    "    public void moveLeft(){\n",
    "        x--;\n",
    "    }\n",
    "    public void moveTo(int newX, int newY){x=newX; y=newY;}\n",
    "}"
   ]
  },
  {
   "cell_type": "code",
   "execution_count": 28,
   "id": "47585b23-5da6-4a10-b153-f790da1ae845",
   "metadata": {},
   "outputs": [
    {
     "name": "stdout",
     "output_type": "stream",
     "text": [
      "0\n"
     ]
    }
   ],
   "source": [
    "Farmer f1 = new Farmer();\n",
    "System.out.println(f1.y);"
   ]
  },
  {
   "cell_type": "code",
   "execution_count": 26,
   "id": "ec144ccf-16e6-4e65-b38a-2f0eb4199367",
   "metadata": {},
   "outputs": [
    {
     "name": "stdout",
     "output_type": "stream",
     "text": [
      "1\n"
     ]
    }
   ],
   "source": [
    "f1.moveDown();\n",
    "System.out.println(f1.y);"
   ]
  },
  {
   "cell_type": "code",
   "execution_count": 29,
   "id": "a4a8f077-144b-41af-8dbb-e36514365e60",
   "metadata": {},
   "outputs": [],
   "source": [
    "f1.moveTo(3,6);"
   ]
  },
  {
   "cell_type": "code",
   "execution_count": 31,
   "id": "37a29bbf-5822-4e20-84f6-da0b6777996c",
   "metadata": {},
   "outputs": [
    {
     "name": "stdout",
     "output_type": "stream",
     "text": [
      "6\n"
     ]
    }
   ],
   "source": [
    "System.out.println(f1.y);"
   ]
  },
  {
   "cell_type": "markdown",
   "id": "502cee9f-a3d4-459d-af38-954678743bf0",
   "metadata": {},
   "source": [
    "<img title=\"a title\" alt=\"Alt text\" src=\"lecture15Images/p1.png\">"
   ]
  },
  {
   "cell_type": "code",
   "execution_count": 35,
   "id": "54604c82-831d-4675-a9a6-6222892377be",
   "metadata": {},
   "outputs": [],
   "source": [
    "class Farmer{\n",
    "    String name;\n",
    "    double weight;\n",
    "    int x, y;\n",
    "    //constructor\n",
    "    Farmer(){\n",
    "        this(\"ananymous\", 12.0, 1, 3);\n",
    "        // this.someMethod();\n",
    "        \n",
    "    }\n",
    "    Farmer(String name, double weight, int x, int y){\n",
    "        this.name = name;\n",
    "        this.weight = weight;\n",
    "        this.x = x;\n",
    "        this.y = y;\n",
    "        \n",
    "    }\n",
    "    public void someMethod(){\n",
    "        System.out.println(\"Hello from the class object\");\n",
    "    }\n",
    "}"
   ]
  },
  {
   "cell_type": "code",
   "execution_count": 36,
   "id": "39115bb0-488a-46fc-bd91-e5e6fd494540",
   "metadata": {},
   "outputs": [
    {
     "name": "stdout",
     "output_type": "stream",
     "text": [
      "Hello from the class object\n"
     ]
    }
   ],
   "source": [
    "Farmer jack = new Farmer();\n",
    "\n",
    "//Run this after adding constructor\n",
    "// Explain the default constructor\n",
    "// Use the overloaded method for default values"
   ]
  },
  {
   "cell_type": "code",
   "execution_count": 34,
   "id": "ca4e0954-9d15-4b91-96e0-6bf974831001",
   "metadata": {},
   "outputs": [
    {
     "data": {
      "text/plain": [
       "ananymous"
      ]
     },
     "execution_count": 34,
     "metadata": {},
     "output_type": "execute_result"
    }
   ],
   "source": [
    "jack.name;"
   ]
  },
  {
   "cell_type": "code",
   "execution_count": null,
   "id": "50e0f576-00f0-461f-a676-be444c8d9b9f",
   "metadata": {},
   "outputs": [],
   "source": []
  },
  {
   "cell_type": "code",
   "execution_count": 3,
   "id": "2bc3814d-0b28-4089-9562-00bc22ad5ac3",
   "metadata": {},
   "outputs": [
    {
     "data": {
      "text/plain": [
       "3"
      ]
     },
     "execution_count": 3,
     "metadata": {},
     "output_type": "execute_result"
    }
   ],
   "source": [
    "jack.name = \"Jack\";\n",
    "jack.weight = 12.5;\n",
    "jack.x = 2;\n",
    "jack.y = 3;"
   ]
  },
  {
   "cell_type": "code",
   "execution_count": 28,
   "id": "b69c50ff-281c-431f-a4e2-de90272bcc60",
   "metadata": {},
   "outputs": [],
   "source": [
    "Farmer jack = new Farmer(\"Jack\", 12.5, 2, 3);"
   ]
  },
  {
   "cell_type": "code",
   "execution_count": 30,
   "id": "84fb8d15-a852-4f8b-a879-ae8d80d86af1",
   "metadata": {},
   "outputs": [
    {
     "data": {
      "text/plain": [
       "Jack"
      ]
     },
     "execution_count": 30,
     "metadata": {},
     "output_type": "execute_result"
    }
   ],
   "source": [
    "jack.name;"
   ]
  },
  {
   "cell_type": "code",
   "execution_count": null,
   "id": "ddbb050d-c518-4fd7-ae92-08fe9504ca13",
   "metadata": {},
   "outputs": [],
   "source": []
  },
  {
   "cell_type": "markdown",
   "id": "8b5c5c14-87cf-41c0-ac07-00cfafe00cc4",
   "metadata": {},
   "source": [
    "<img title=\"a title\" alt=\"Alt text\" src=\"lecture15Images/p2.png\">"
   ]
  },
  {
   "cell_type": "code",
   "execution_count": 24,
   "id": "6c18012c-a6cc-4cdc-bfac-1e820fc5c3a5",
   "metadata": {},
   "outputs": [],
   "source": [
    "// class Farmer{\n",
    "//     String name;\n",
    "//     double weight;\n",
    "//     int x, y;\n",
    "//     Farmer(String n, double w, int x, int  y){\n",
    "//         name = n;\n",
    "//         weight = w;\n",
    "//         x = x;\n",
    "//         y = y;\n",
    "//     }\n",
    "// }"
   ]
  },
  {
   "cell_type": "code",
   "execution_count": 25,
   "id": "ccc5f8cc-471b-4e5f-81f1-b82de2e78902",
   "metadata": {},
   "outputs": [],
   "source": [
    "// Farmer jack = new Farmer(\"Jack\", 12.0, 1, 10);"
   ]
  },
  {
   "cell_type": "code",
   "execution_count": 23,
   "id": "08e88044-0f13-4b6c-9da9-d645ebb1825f",
   "metadata": {},
   "outputs": [
    {
     "data": {
      "text/plain": [
       "0"
      ]
     },
     "execution_count": 23,
     "metadata": {},
     "output_type": "execute_result"
    }
   ],
   "source": [
    "jack.y;"
   ]
  },
  {
   "cell_type": "code",
   "execution_count": null,
   "id": "bf67aa84-3514-4d3b-92f8-4fa34c1c694b",
   "metadata": {},
   "outputs": [],
   "source": []
  },
  {
   "cell_type": "markdown",
   "id": "7f5ae1df-6b6a-4a62-9f5c-d3db105331a7",
   "metadata": {},
   "source": [
    "<img title=\"a title\" alt=\"Alt text\" src=\"lecture15Images/p3.png\">"
   ]
  },
  {
   "cell_type": "code",
   "execution_count": null,
   "id": "7ca2b6e4-9356-41cb-8047-95ef66f48e69",
   "metadata": {},
   "outputs": [],
   "source": []
  },
  {
   "cell_type": "code",
   "execution_count": null,
   "id": "19f0a2d8-d1b7-4fbd-a535-589ede5845bd",
   "metadata": {},
   "outputs": [],
   "source": []
  },
  {
   "cell_type": "code",
   "execution_count": null,
   "id": "91d8e7cb-1258-48d6-bba4-4619fc9b7a07",
   "metadata": {},
   "outputs": [],
   "source": []
  },
  {
   "cell_type": "code",
   "execution_count": null,
   "id": "8d09537b-9aa2-4d2c-ab63-c8dbe15e8b84",
   "metadata": {},
   "outputs": [],
   "source": []
  },
  {
   "cell_type": "markdown",
   "id": "195aeebc-ae06-4afd-b789-fb069a635a4a",
   "metadata": {},
   "source": [
    "<img title=\"a title\" alt=\"Alt text\" src=\"lecture15Images/p4.png\">"
   ]
  },
  {
   "cell_type": "code",
   "execution_count": null,
   "id": "520ba8a8-0102-4af4-8913-4d3d4f59dbc8",
   "metadata": {},
   "outputs": [],
   "source": []
  },
  {
   "cell_type": "code",
   "execution_count": null,
   "id": "8080b8fa-7c02-4c5d-8ec2-4c28ef88a986",
   "metadata": {},
   "outputs": [],
   "source": []
  },
  {
   "cell_type": "code",
   "execution_count": null,
   "id": "533e8c55-8948-436d-b6a7-41c36df692bc",
   "metadata": {},
   "outputs": [],
   "source": []
  },
  {
   "cell_type": "code",
   "execution_count": null,
   "id": "070d2150-0f25-4f73-8f16-423bd7a9341c",
   "metadata": {},
   "outputs": [],
   "source": []
  },
  {
   "cell_type": "markdown",
   "id": "53dde2f8-63a8-4e70-a8e3-706dc5e37d6c",
   "metadata": {},
   "source": [
    "<img title=\"a title\" alt=\"Alt text\" src=\"lecture15Images/p5.png\">"
   ]
  },
  {
   "cell_type": "code",
   "execution_count": null,
   "id": "062b147b-64ed-4863-b742-88adc7a52cdb",
   "metadata": {},
   "outputs": [],
   "source": []
  },
  {
   "cell_type": "code",
   "execution_count": null,
   "id": "3d317713-d87c-475f-8b05-864d967ddbb3",
   "metadata": {},
   "outputs": [],
   "source": []
  },
  {
   "cell_type": "code",
   "execution_count": null,
   "id": "65d4903d-b16a-454f-9924-5258b625b02c",
   "metadata": {},
   "outputs": [],
   "source": []
  },
  {
   "cell_type": "markdown",
   "id": "01883c47-7b6c-4bfa-90a2-ec5859a81c14",
   "metadata": {},
   "source": [
    "<img title=\"a title\" alt=\"Alt text\" src=\"lecture15Images/p6.png\">"
   ]
  },
  {
   "cell_type": "code",
   "execution_count": null,
   "id": "322e47b1-21bc-4761-bfd1-6b925dbd0975",
   "metadata": {},
   "outputs": [],
   "source": []
  },
  {
   "cell_type": "code",
   "execution_count": null,
   "id": "84361997-ab45-4195-9adc-bd4b6fa366f0",
   "metadata": {},
   "outputs": [],
   "source": []
  },
  {
   "cell_type": "code",
   "execution_count": null,
   "id": "539b31cc-1b33-4302-9cad-977c0ab9cb25",
   "metadata": {},
   "outputs": [],
   "source": []
  },
  {
   "cell_type": "code",
   "execution_count": null,
   "id": "f5b86b31-b4ab-4a73-baad-ca691bb94987",
   "metadata": {},
   "outputs": [],
   "source": []
  },
  {
   "cell_type": "code",
   "execution_count": null,
   "id": "08a3e4a0-0a08-4790-bbb2-484e5f1eea6f",
   "metadata": {},
   "outputs": [],
   "source": []
  },
  {
   "cell_type": "code",
   "execution_count": null,
   "id": "8793c59d-8087-49a8-a891-740a5932a2cc",
   "metadata": {},
   "outputs": [],
   "source": []
  },
  {
   "cell_type": "code",
   "execution_count": null,
   "id": "d913a7c7-ab4d-4d0c-a03c-026bbe0f3229",
   "metadata": {},
   "outputs": [],
   "source": []
  },
  {
   "cell_type": "markdown",
   "id": "5beccb4a-8b5c-4bfe-a642-6356bbf91819",
   "metadata": {},
   "source": [
    "<img title=\"a title\" alt=\"Alt text\" src=\"lecture15Images/p7.png\">"
   ]
  },
  {
   "cell_type": "code",
   "execution_count": null,
   "id": "4409c37a-5078-431b-adc1-fac7859a1c78",
   "metadata": {},
   "outputs": [],
   "source": []
  },
  {
   "cell_type": "code",
   "execution_count": null,
   "id": "94d7acb5-ca70-46ba-8209-29de7d027765",
   "metadata": {},
   "outputs": [],
   "source": []
  },
  {
   "cell_type": "code",
   "execution_count": null,
   "id": "38ff696a-0695-45a2-b60f-eaa59dd4efb0",
   "metadata": {},
   "outputs": [],
   "source": []
  },
  {
   "cell_type": "code",
   "execution_count": null,
   "id": "fd6563e1-0f19-4b47-8243-62463e12ac1d",
   "metadata": {},
   "outputs": [],
   "source": []
  },
  {
   "cell_type": "code",
   "execution_count": null,
   "id": "9feb9761-59d8-4514-adc0-1046a29990cf",
   "metadata": {},
   "outputs": [],
   "source": []
  },
  {
   "cell_type": "code",
   "execution_count": null,
   "id": "012013c8-47d9-4485-8a3a-f2255335955b",
   "metadata": {},
   "outputs": [],
   "source": []
  },
  {
   "cell_type": "code",
   "execution_count": null,
   "id": "e91a628c-c230-4205-bfbc-61d8b0227b14",
   "metadata": {},
   "outputs": [],
   "source": []
  },
  {
   "cell_type": "code",
   "execution_count": null,
   "id": "5b085b2a-0f13-4497-9a80-b82495338e1d",
   "metadata": {},
   "outputs": [],
   "source": []
  },
  {
   "cell_type": "markdown",
   "id": "ad5484cb-da61-41c5-b7ba-e5453f3aafa5",
   "metadata": {},
   "source": [
    "<img title=\"a title\" alt=\"Alt text\" src=\"lecture15Images/p8.png\">"
   ]
  },
  {
   "cell_type": "code",
   "execution_count": null,
   "id": "1d4ae409-301f-4120-87b8-5c1f6d049ae8",
   "metadata": {},
   "outputs": [],
   "source": []
  },
  {
   "cell_type": "code",
   "execution_count": null,
   "id": "c2694142-2dfc-4fe3-a554-7df72b246ed8",
   "metadata": {},
   "outputs": [],
   "source": []
  },
  {
   "cell_type": "code",
   "execution_count": null,
   "id": "f634d559-ba27-4607-8fe3-b47182014f8c",
   "metadata": {},
   "outputs": [],
   "source": []
  },
  {
   "cell_type": "code",
   "execution_count": null,
   "id": "61fb5a85-c0b0-499c-9b99-a1261dde8c27",
   "metadata": {},
   "outputs": [],
   "source": []
  },
  {
   "cell_type": "code",
   "execution_count": null,
   "id": "c412f5ef-3acf-4563-9329-02ba522dbe81",
   "metadata": {},
   "outputs": [],
   "source": []
  },
  {
   "cell_type": "code",
   "execution_count": null,
   "id": "f9b597f1-c612-47ea-8b71-7822e236c730",
   "metadata": {},
   "outputs": [],
   "source": []
  },
  {
   "cell_type": "code",
   "execution_count": null,
   "id": "d1ad7f11-46e6-402b-9ea7-8adc3a828c1e",
   "metadata": {},
   "outputs": [],
   "source": []
  },
  {
   "cell_type": "code",
   "execution_count": null,
   "id": "ef0ebeb9-5f84-4c6b-bf45-6aaca30629b5",
   "metadata": {},
   "outputs": [],
   "source": []
  },
  {
   "cell_type": "markdown",
   "id": "e0c1e36e-ebbc-47fb-8dee-28f0ccb14525",
   "metadata": {},
   "source": [
    "<img title=\"a title\" alt=\"Alt text\" src=\"lecture15Images/p9.png\">"
   ]
  },
  {
   "cell_type": "code",
   "execution_count": null,
   "id": "0a79c2e0-4aa3-4b01-8f02-fe2112df49b3",
   "metadata": {},
   "outputs": [],
   "source": []
  },
  {
   "cell_type": "code",
   "execution_count": null,
   "id": "0e9e2a62-fb19-4c19-acd1-74761004b855",
   "metadata": {},
   "outputs": [],
   "source": []
  },
  {
   "cell_type": "code",
   "execution_count": null,
   "id": "5c2f0b44-234c-4b87-a6e5-59ec09d3b3cd",
   "metadata": {},
   "outputs": [],
   "source": []
  },
  {
   "cell_type": "code",
   "execution_count": null,
   "id": "baf5760f-2ae7-4af6-84e5-e6c2a5da752d",
   "metadata": {},
   "outputs": [],
   "source": []
  },
  {
   "cell_type": "code",
   "execution_count": null,
   "id": "f8a8c42e-3440-48a9-ae7a-50e401890b2a",
   "metadata": {},
   "outputs": [],
   "source": []
  },
  {
   "cell_type": "code",
   "execution_count": null,
   "id": "27891c44-59d2-46a3-89fe-90a489327380",
   "metadata": {},
   "outputs": [],
   "source": []
  },
  {
   "cell_type": "code",
   "execution_count": null,
   "id": "280b736f-cd03-4600-8e67-04624c6a25f6",
   "metadata": {},
   "outputs": [],
   "source": []
  },
  {
   "cell_type": "code",
   "execution_count": null,
   "id": "353a0584-3066-4420-8b4d-58054929fcca",
   "metadata": {},
   "outputs": [],
   "source": []
  },
  {
   "cell_type": "markdown",
   "id": "47662c42-fa0a-455d-b1d0-d43ca282593a",
   "metadata": {},
   "source": [
    "<img title=\"a title\" alt=\"Alt text\" src=\"lecture15Images/p10.png\">"
   ]
  },
  {
   "cell_type": "code",
   "execution_count": 37,
   "id": "005c6bba-5aa9-46ef-856a-9fc00188f6f9",
   "metadata": {},
   "outputs": [],
   "source": [
    "class Cow{\n",
    "    String nickname;\n",
    "    int stomach;\n",
    "    boolean isFull;\n",
    "    \n",
    "    Cow(){\n",
    "        stomach = 50;\n",
    "        nickname = \"Anonymous\";\n",
    "        isFull = false;\n",
    "    }\n",
    "    Cow(String nickname, int s){ //We shouldn't have a tree parameter constructor\n",
    "        stomach = s;\n",
    "        this.nickname = nickname;\n",
    "        if(s >= 100){\n",
    "            stomach = 100;\n",
    "            isFull = true;\n",
    "        }\n",
    "    }\n",
    "}"
   ]
  },
  {
   "cell_type": "code",
   "execution_count": 38,
   "id": "21f333c1-96ce-40c5-bb88-516b36bff379",
   "metadata": {},
   "outputs": [],
   "source": [
    "Cow c1 = new Cow(\"name\", 50, true);"
   ]
  },
  {
   "cell_type": "code",
   "execution_count": null,
   "id": "4972d457-0084-485c-909d-cce903ff17bc",
   "metadata": {},
   "outputs": [],
   "source": []
  },
  {
   "cell_type": "code",
   "execution_count": null,
   "id": "576bd045-515c-490b-a583-9b67828b7170",
   "metadata": {},
   "outputs": [],
   "source": []
  },
  {
   "cell_type": "code",
   "execution_count": null,
   "id": "80d5a7e7-df8a-4426-b0e1-11e20e9e23c2",
   "metadata": {},
   "outputs": [],
   "source": []
  },
  {
   "cell_type": "code",
   "execution_count": null,
   "id": "7de1d206-bbdb-4fd8-a68b-350573ae30da",
   "metadata": {},
   "outputs": [],
   "source": []
  },
  {
   "cell_type": "code",
   "execution_count": null,
   "id": "98df123c-f7ac-4157-9133-126210f3141f",
   "metadata": {},
   "outputs": [],
   "source": []
  },
  {
   "cell_type": "code",
   "execution_count": null,
   "id": "a43d23c3-c486-4050-bef9-91cc11393b16",
   "metadata": {},
   "outputs": [],
   "source": []
  },
  {
   "cell_type": "markdown",
   "id": "81b1f957-e71d-4c72-a9fd-6d6a69049982",
   "metadata": {},
   "source": [
    "<img title=\"a title\" alt=\"Alt text\" src=\"lecture15Images/p11.png\">"
   ]
  },
  {
   "cell_type": "code",
   "execution_count": 38,
   "id": "d34a06a0-5364-424c-a762-8f65e5b3c02f",
   "metadata": {},
   "outputs": [],
   "source": [
    "class Circle{\n",
    "    double radius;\n",
    "    Circle(){\n",
    "        radius = 10;\n",
    "    }\n",
    "    Circle(double r){\n",
    "        radius = r;\n",
    "    }\n",
    "    void setRadius(double r){\n",
    "        radius = r;\n",
    "    }\n",
    "    double getArea(){\n",
    "        return Math.PI * radius * radius;\n",
    "    }\n",
    "    double getPerimeter(){\n",
    "        return 2 * Math.PI * radius;\n",
    "    }\n",
    "    \n",
    "}"
   ]
  },
  {
   "cell_type": "code",
   "execution_count": null,
   "id": "55858a7e-f26d-4edc-b26f-40102cdc5c1f",
   "metadata": {},
   "outputs": [],
   "source": []
  },
  {
   "cell_type": "code",
   "execution_count": null,
   "id": "24844293-eed2-4596-b1ef-12beb2c71e2b",
   "metadata": {},
   "outputs": [],
   "source": []
  },
  {
   "cell_type": "code",
   "execution_count": null,
   "id": "366de5eb-ee2b-4ae3-a0d0-12305f523f37",
   "metadata": {},
   "outputs": [],
   "source": []
  },
  {
   "cell_type": "code",
   "execution_count": null,
   "id": "46680556-c349-4e6f-989d-2e173ddaa3c8",
   "metadata": {},
   "outputs": [],
   "source": []
  },
  {
   "cell_type": "code",
   "execution_count": null,
   "id": "1a01d72b-0edc-476d-bb4a-1fa0e40a193a",
   "metadata": {},
   "outputs": [],
   "source": []
  },
  {
   "cell_type": "code",
   "execution_count": null,
   "id": "a5af0b56-b251-4711-81a6-874ce3e86029",
   "metadata": {},
   "outputs": [],
   "source": []
  },
  {
   "cell_type": "code",
   "execution_count": null,
   "id": "9055d39e-3829-4c71-87e4-cbd1045d60ab",
   "metadata": {},
   "outputs": [],
   "source": []
  },
  {
   "cell_type": "markdown",
   "id": "9a6d3e49-ffa0-41d4-afb9-69bba2bbc11e",
   "metadata": {},
   "source": [
    "<img title=\"a title\" alt=\"Alt text\" src=\"lecture15Images/p12.png\">"
   ]
  },
  {
   "cell_type": "code",
   "execution_count": null,
   "id": "0348e1dd-1949-48c6-a49c-2dcfd594f5b6",
   "metadata": {},
   "outputs": [],
   "source": []
  },
  {
   "cell_type": "code",
   "execution_count": null,
   "id": "0395477a-c606-469f-8089-ec6898ffbc74",
   "metadata": {},
   "outputs": [],
   "source": []
  },
  {
   "cell_type": "code",
   "execution_count": null,
   "id": "13d3d048-1bc9-4248-b831-90c73a4e7312",
   "metadata": {},
   "outputs": [],
   "source": []
  },
  {
   "cell_type": "code",
   "execution_count": null,
   "id": "ea2f7ed4-c054-4e6a-a330-57de3da2add0",
   "metadata": {},
   "outputs": [],
   "source": []
  },
  {
   "cell_type": "code",
   "execution_count": null,
   "id": "941d2ce4-a35b-411e-a4d5-966642be5983",
   "metadata": {},
   "outputs": [],
   "source": []
  },
  {
   "cell_type": "code",
   "execution_count": null,
   "id": "6d05c743-53f0-4056-bbf0-687cd220af76",
   "metadata": {},
   "outputs": [],
   "source": []
  },
  {
   "cell_type": "code",
   "execution_count": null,
   "id": "6abca0eb-e68c-4bbb-826d-b851f426ec20",
   "metadata": {},
   "outputs": [],
   "source": []
  },
  {
   "cell_type": "code",
   "execution_count": null,
   "id": "e8389ae7-8928-4113-a465-fdb26e966993",
   "metadata": {},
   "outputs": [],
   "source": []
  },
  {
   "cell_type": "markdown",
   "id": "dd623e13-06c3-40a0-87c5-e0f95d726dc7",
   "metadata": {},
   "source": [
    "<img title=\"a title\" alt=\"Alt text\" src=\"lecture15Images/p13.png\">"
   ]
  },
  {
   "cell_type": "code",
   "execution_count": null,
   "id": "96c8e194-e61d-4b1f-b225-a00ad6225ec6",
   "metadata": {},
   "outputs": [],
   "source": []
  },
  {
   "cell_type": "code",
   "execution_count": null,
   "id": "bf9abbad-2c35-4618-8d2e-d027e5aa1de3",
   "metadata": {},
   "outputs": [],
   "source": []
  },
  {
   "cell_type": "code",
   "execution_count": null,
   "id": "659dd485-78dc-4940-a876-01c342261989",
   "metadata": {},
   "outputs": [],
   "source": []
  },
  {
   "cell_type": "code",
   "execution_count": null,
   "id": "ea8aac63-c0c4-4715-aead-776ccb24ef5e",
   "metadata": {},
   "outputs": [],
   "source": []
  },
  {
   "cell_type": "code",
   "execution_count": null,
   "id": "2569a78e-e2b8-4eed-b47e-5d6fa49969b6",
   "metadata": {},
   "outputs": [],
   "source": []
  },
  {
   "cell_type": "code",
   "execution_count": null,
   "id": "7d410d4c-cb65-442a-8bfa-23908d98b32b",
   "metadata": {},
   "outputs": [],
   "source": []
  },
  {
   "cell_type": "code",
   "execution_count": null,
   "id": "6f856f0f-a449-4cd4-8bc9-723065887186",
   "metadata": {},
   "outputs": [],
   "source": []
  },
  {
   "cell_type": "code",
   "execution_count": null,
   "id": "fb676cfe-c727-4db0-a9be-b9a13a80413a",
   "metadata": {},
   "outputs": [],
   "source": []
  },
  {
   "cell_type": "code",
   "execution_count": null,
   "id": "54c26615-b401-404b-baaa-8c53eb30a51e",
   "metadata": {},
   "outputs": [],
   "source": []
  },
  {
   "cell_type": "markdown",
   "id": "cd8c2f5e-5210-493f-8a0f-d8772efa6c07",
   "metadata": {},
   "source": [
    "<img title=\"a title\" alt=\"Alt text\" src=\"lecture15Images/p14.png\">"
   ]
  },
  {
   "cell_type": "code",
   "execution_count": null,
   "id": "f044bbdb-a8f8-4e1f-a52e-6d5849812bba",
   "metadata": {},
   "outputs": [],
   "source": []
  },
  {
   "cell_type": "code",
   "execution_count": null,
   "id": "f5fe01f3-2765-460c-a618-0971c41e71bb",
   "metadata": {},
   "outputs": [],
   "source": []
  },
  {
   "cell_type": "code",
   "execution_count": null,
   "id": "038991dd-045e-4139-a211-dbb69584b9bd",
   "metadata": {},
   "outputs": [],
   "source": []
  },
  {
   "cell_type": "code",
   "execution_count": null,
   "id": "f9a65ca6-dc0f-41b7-ac5f-9fa49cd9b453",
   "metadata": {},
   "outputs": [],
   "source": []
  },
  {
   "cell_type": "code",
   "execution_count": null,
   "id": "bd6f61a6-65ce-409a-9252-2fd017ba017f",
   "metadata": {},
   "outputs": [],
   "source": []
  },
  {
   "cell_type": "code",
   "execution_count": null,
   "id": "b46e40cb-8069-4f8f-a61c-3b06fa60769d",
   "metadata": {},
   "outputs": [],
   "source": []
  },
  {
   "cell_type": "code",
   "execution_count": null,
   "id": "e23d043b-1bcf-43ea-b1f5-ff36bd508514",
   "metadata": {},
   "outputs": [],
   "source": []
  },
  {
   "cell_type": "code",
   "execution_count": null,
   "id": "62483550-59a6-4d42-a18a-8f7c8095b4a2",
   "metadata": {},
   "outputs": [],
   "source": []
  },
  {
   "cell_type": "code",
   "execution_count": null,
   "id": "0283bca7-2094-445d-abf8-59abea2a3924",
   "metadata": {},
   "outputs": [],
   "source": []
  },
  {
   "cell_type": "markdown",
   "id": "6e29e924-25d3-4a82-a284-92fbd71a5c9c",
   "metadata": {},
   "source": [
    "<img title=\"a title\" alt=\"Alt text\" src=\"lecture15Images/p15.png\">"
   ]
  },
  {
   "cell_type": "code",
   "execution_count": null,
   "id": "bd5bdb55-8539-4110-b71a-6a13dd482b23",
   "metadata": {},
   "outputs": [],
   "source": []
  },
  {
   "cell_type": "code",
   "execution_count": null,
   "id": "71ae76dd-4360-49cf-9fa4-4ab654110edf",
   "metadata": {},
   "outputs": [],
   "source": []
  },
  {
   "cell_type": "code",
   "execution_count": null,
   "id": "695b5e35-0cba-4d0f-9921-47573c4d1233",
   "metadata": {},
   "outputs": [],
   "source": []
  },
  {
   "cell_type": "code",
   "execution_count": null,
   "id": "1c3b6205-7316-4d30-84b0-78484da9dec4",
   "metadata": {},
   "outputs": [],
   "source": []
  },
  {
   "cell_type": "code",
   "execution_count": null,
   "id": "0a2d54df-bf13-4844-852d-392097f52324",
   "metadata": {},
   "outputs": [],
   "source": []
  },
  {
   "cell_type": "code",
   "execution_count": null,
   "id": "b3878229-f28a-4f0a-bc13-366ec3638f88",
   "metadata": {},
   "outputs": [],
   "source": []
  },
  {
   "cell_type": "code",
   "execution_count": null,
   "id": "8c5ba56b-8122-4937-b247-fdd7a7d7f9ab",
   "metadata": {},
   "outputs": [],
   "source": []
  },
  {
   "cell_type": "code",
   "execution_count": null,
   "id": "6d9dd2a2-3c58-442a-b97b-5d36e4829ffb",
   "metadata": {},
   "outputs": [],
   "source": []
  },
  {
   "cell_type": "code",
   "execution_count": null,
   "id": "dedaa8d0-b588-4c20-a3f8-c66accadb3f0",
   "metadata": {},
   "outputs": [],
   "source": []
  },
  {
   "cell_type": "markdown",
   "id": "f5625072-6622-4f05-bc9b-d765829dc4f3",
   "metadata": {},
   "source": [
    "<img title=\"a title\" alt=\"Alt text\" src=\"lecture15Images/p16.png\">"
   ]
  },
  {
   "cell_type": "code",
   "execution_count": null,
   "id": "9ba70c91-8ffc-48d4-b926-8a370446d0e0",
   "metadata": {},
   "outputs": [],
   "source": []
  },
  {
   "cell_type": "code",
   "execution_count": null,
   "id": "d6872874-72a0-4c38-bcc7-d93a1d25e298",
   "metadata": {},
   "outputs": [],
   "source": []
  },
  {
   "cell_type": "code",
   "execution_count": null,
   "id": "cd7c0157-c7a7-4ac3-97e4-2e92de85f19b",
   "metadata": {},
   "outputs": [],
   "source": []
  },
  {
   "cell_type": "code",
   "execution_count": null,
   "id": "b2931ec8-5d6a-4dc3-9e04-b285a1160f4c",
   "metadata": {},
   "outputs": [],
   "source": []
  },
  {
   "cell_type": "code",
   "execution_count": null,
   "id": "059f91d7-93cb-476a-a973-86b6a6dee81f",
   "metadata": {},
   "outputs": [],
   "source": []
  },
  {
   "cell_type": "code",
   "execution_count": null,
   "id": "b95dfa0e-5528-455a-9ccf-a4fdc17d70f4",
   "metadata": {},
   "outputs": [],
   "source": []
  },
  {
   "cell_type": "code",
   "execution_count": null,
   "id": "174793c7-e8f6-4b29-961b-ed57214932da",
   "metadata": {},
   "outputs": [],
   "source": []
  },
  {
   "cell_type": "code",
   "execution_count": null,
   "id": "e735c2ac-596e-45e8-99ac-d1d0545a893a",
   "metadata": {},
   "outputs": [],
   "source": []
  },
  {
   "cell_type": "markdown",
   "id": "aae4263c-a9ac-4163-9ffa-089cb7caf77b",
   "metadata": {},
   "source": [
    "<img title=\"a title\" alt=\"Alt text\" src=\"lecture15Images/p17.png\">"
   ]
  },
  {
   "cell_type": "code",
   "execution_count": null,
   "id": "92e34891-fae3-47ed-a57c-d9d474171cbd",
   "metadata": {},
   "outputs": [],
   "source": []
  },
  {
   "cell_type": "code",
   "execution_count": null,
   "id": "cc7e6966-a201-467b-ae32-617470117fb6",
   "metadata": {},
   "outputs": [],
   "source": []
  },
  {
   "cell_type": "code",
   "execution_count": null,
   "id": "eac6380a-af31-4e92-897e-30163e811779",
   "metadata": {},
   "outputs": [],
   "source": []
  },
  {
   "cell_type": "code",
   "execution_count": null,
   "id": "7b44b25a-8a65-4a8b-a363-9d5f77e946e5",
   "metadata": {},
   "outputs": [],
   "source": []
  },
  {
   "cell_type": "code",
   "execution_count": null,
   "id": "b13604f8-57c7-4374-9f5b-623c90d398ca",
   "metadata": {},
   "outputs": [],
   "source": []
  },
  {
   "cell_type": "code",
   "execution_count": null,
   "id": "2a7c381f-6899-4fde-a20c-3f126e18def9",
   "metadata": {},
   "outputs": [],
   "source": []
  },
  {
   "cell_type": "code",
   "execution_count": null,
   "id": "ce36f36a-e2b0-4019-b60d-fafcf0302bde",
   "metadata": {},
   "outputs": [],
   "source": []
  },
  {
   "cell_type": "code",
   "execution_count": null,
   "id": "91c11199-58fa-48a4-8eb3-ccf1e137afb2",
   "metadata": {},
   "outputs": [],
   "source": []
  },
  {
   "cell_type": "markdown",
   "id": "85ded33a-a20e-47dd-9717-e9433f158aa9",
   "metadata": {},
   "source": [
    "<img title=\"a title\" alt=\"Alt text\" src=\"lecture15Images/p18.png\">"
   ]
  },
  {
   "cell_type": "code",
   "execution_count": null,
   "id": "88e61528-2e29-40fe-b682-8188a704d674",
   "metadata": {},
   "outputs": [],
   "source": []
  },
  {
   "cell_type": "code",
   "execution_count": null,
   "id": "26d8ee6c-8e0e-43a5-8938-b9f0c1a27bf3",
   "metadata": {},
   "outputs": [],
   "source": []
  },
  {
   "cell_type": "code",
   "execution_count": null,
   "id": "78089211-bf64-4b42-a7fa-2d11d4ad3cdb",
   "metadata": {},
   "outputs": [],
   "source": []
  },
  {
   "cell_type": "code",
   "execution_count": null,
   "id": "c73c6beb-f4e7-4973-8333-eee617223d2a",
   "metadata": {},
   "outputs": [],
   "source": []
  },
  {
   "cell_type": "code",
   "execution_count": null,
   "id": "3c6f18af-d45a-4ba2-8c29-b7b5fb90c454",
   "metadata": {},
   "outputs": [],
   "source": []
  },
  {
   "cell_type": "code",
   "execution_count": null,
   "id": "01b69ba8-c45e-41d0-a14d-6167a85affa9",
   "metadata": {},
   "outputs": [],
   "source": []
  },
  {
   "cell_type": "code",
   "execution_count": null,
   "id": "c4521f8c-ad89-4607-877f-fdd8b9f6f0f1",
   "metadata": {},
   "outputs": [],
   "source": []
  },
  {
   "cell_type": "code",
   "execution_count": null,
   "id": "7866ec63-5141-47b4-86c6-a193ccf4c6b7",
   "metadata": {},
   "outputs": [],
   "source": []
  },
  {
   "cell_type": "markdown",
   "id": "f3071832-1a00-4031-8b00-6d221a4a581a",
   "metadata": {},
   "source": [
    "<img title=\"a title\" alt=\"Alt text\" src=\"lecture15Images/p19.png\">"
   ]
  },
  {
   "cell_type": "code",
   "execution_count": null,
   "id": "1c9d436a-159a-4f0d-89eb-708ece1c1ece",
   "metadata": {},
   "outputs": [],
   "source": []
  },
  {
   "cell_type": "code",
   "execution_count": null,
   "id": "d871c006-e2b2-431a-b476-c7c56b599936",
   "metadata": {},
   "outputs": [],
   "source": []
  },
  {
   "cell_type": "code",
   "execution_count": null,
   "id": "a9bc8b46-41b2-44b4-887b-ca131c4b1415",
   "metadata": {},
   "outputs": [],
   "source": []
  },
  {
   "cell_type": "code",
   "execution_count": null,
   "id": "55c2eda5-303a-40ae-8beb-8ad0dc24c0d5",
   "metadata": {},
   "outputs": [],
   "source": []
  },
  {
   "cell_type": "code",
   "execution_count": null,
   "id": "b3a1f4e1-9545-4374-80ce-1785dac1be1e",
   "metadata": {},
   "outputs": [],
   "source": []
  },
  {
   "cell_type": "code",
   "execution_count": null,
   "id": "efe4a76e-d68a-406e-b0d7-2379e9a1d459",
   "metadata": {},
   "outputs": [],
   "source": []
  },
  {
   "cell_type": "code",
   "execution_count": null,
   "id": "e2ba70cd-b70d-4bdd-8f58-146e30def814",
   "metadata": {},
   "outputs": [],
   "source": []
  },
  {
   "cell_type": "markdown",
   "id": "af90efdb-50b3-4bf6-8737-58764e109f29",
   "metadata": {},
   "source": [
    "<img title=\"a title\" alt=\"Alt text\" src=\"lecture15Images/p20.png\">"
   ]
  },
  {
   "cell_type": "code",
   "execution_count": null,
   "id": "d4987959-7410-43eb-85e8-fad1bcf5c0f7",
   "metadata": {},
   "outputs": [],
   "source": []
  },
  {
   "cell_type": "code",
   "execution_count": null,
   "id": "b3b41e65-a799-4bab-b9b3-61ee81b8767b",
   "metadata": {},
   "outputs": [],
   "source": []
  },
  {
   "cell_type": "code",
   "execution_count": null,
   "id": "d1816ac7-981e-4174-bcc2-6af4c94b85ee",
   "metadata": {},
   "outputs": [],
   "source": []
  },
  {
   "cell_type": "code",
   "execution_count": null,
   "id": "f27252de-97ab-4c5d-880a-afd9078ca8e8",
   "metadata": {},
   "outputs": [],
   "source": []
  },
  {
   "cell_type": "code",
   "execution_count": null,
   "id": "ae92fca0-823d-4a88-b422-4e8c771dbe9f",
   "metadata": {},
   "outputs": [],
   "source": []
  },
  {
   "cell_type": "code",
   "execution_count": null,
   "id": "ca7a614e-8b25-45ff-b56d-4694c458c9d7",
   "metadata": {},
   "outputs": [],
   "source": []
  },
  {
   "cell_type": "code",
   "execution_count": null,
   "id": "633faba6-cc87-4ecd-910e-d9e57eb236cc",
   "metadata": {},
   "outputs": [],
   "source": []
  },
  {
   "cell_type": "code",
   "execution_count": null,
   "id": "a125f405-1329-4cd2-a406-07287848efcb",
   "metadata": {},
   "outputs": [],
   "source": []
  },
  {
   "cell_type": "markdown",
   "id": "3317b4c5-3105-428f-9238-3c3b567198f4",
   "metadata": {},
   "source": [
    "<img title=\"a title\" alt=\"Alt text\" src=\"lecture15Images/p21.png\">"
   ]
  },
  {
   "cell_type": "code",
   "execution_count": null,
   "id": "9d101ba4-4474-4d38-b0e7-ecf9736850cc",
   "metadata": {},
   "outputs": [],
   "source": []
  },
  {
   "cell_type": "code",
   "execution_count": null,
   "id": "88a2dbb5-7505-48ff-80e3-1b84602d32ac",
   "metadata": {},
   "outputs": [],
   "source": []
  },
  {
   "cell_type": "code",
   "execution_count": null,
   "id": "0a1c4604-17e4-4744-9c2e-bb8e5bbbfad9",
   "metadata": {},
   "outputs": [],
   "source": []
  },
  {
   "cell_type": "code",
   "execution_count": null,
   "id": "59a53b32-3386-4f1c-b0c0-f2fd639f03d4",
   "metadata": {},
   "outputs": [],
   "source": []
  },
  {
   "cell_type": "code",
   "execution_count": null,
   "id": "7d165bf5-6586-419e-9e5e-f76ce48236b2",
   "metadata": {},
   "outputs": [],
   "source": []
  },
  {
   "cell_type": "code",
   "execution_count": null,
   "id": "de81a746-9219-426a-9278-655cce54b7e3",
   "metadata": {},
   "outputs": [],
   "source": []
  },
  {
   "cell_type": "code",
   "execution_count": null,
   "id": "e6ebb318-5e7d-4709-afe1-23fb671cbbbe",
   "metadata": {},
   "outputs": [],
   "source": []
  },
  {
   "cell_type": "code",
   "execution_count": null,
   "id": "b568fac1-e7c2-4b61-b0a4-46d4c773a7c8",
   "metadata": {},
   "outputs": [],
   "source": []
  },
  {
   "cell_type": "markdown",
   "id": "47d57d9d-2693-4b08-a88f-c79816816b70",
   "metadata": {},
   "source": [
    "<img title=\"a title\" alt=\"Alt text\" src=\"lecture15Images/p22.png\">"
   ]
  },
  {
   "cell_type": "code",
   "execution_count": null,
   "id": "8706b375-f461-4079-b7eb-1cf8ee436bb2",
   "metadata": {},
   "outputs": [],
   "source": []
  },
  {
   "cell_type": "code",
   "execution_count": null,
   "id": "e531f779-3484-447b-b656-6a2da6e1550c",
   "metadata": {},
   "outputs": [],
   "source": []
  },
  {
   "cell_type": "code",
   "execution_count": null,
   "id": "18b14ba5-7401-47d8-9030-cee1314fe939",
   "metadata": {},
   "outputs": [],
   "source": []
  },
  {
   "cell_type": "code",
   "execution_count": null,
   "id": "db9c8fc5-5bea-4491-aa2b-7fd91e253d7f",
   "metadata": {},
   "outputs": [],
   "source": []
  },
  {
   "cell_type": "code",
   "execution_count": null,
   "id": "5763d7c6-9b01-4f6e-b5e0-ed73d23e137f",
   "metadata": {},
   "outputs": [],
   "source": []
  },
  {
   "cell_type": "code",
   "execution_count": null,
   "id": "c1636bbc-a3d2-487e-ba5f-c780dc0ae5db",
   "metadata": {},
   "outputs": [],
   "source": []
  },
  {
   "cell_type": "code",
   "execution_count": null,
   "id": "a9f88c45-e421-4fa7-a19f-42ad8b5007c6",
   "metadata": {},
   "outputs": [],
   "source": []
  },
  {
   "cell_type": "code",
   "execution_count": null,
   "id": "621ebaa0-1355-4a27-88ca-8971ddeb8e51",
   "metadata": {},
   "outputs": [],
   "source": []
  },
  {
   "cell_type": "markdown",
   "id": "9c4b1c0d-fbb0-47e7-9654-6d70aa9930c7",
   "metadata": {},
   "source": [
    "<img title=\"a title\" alt=\"Alt text\" src=\"lecture15Images/p23.png\">"
   ]
  },
  {
   "cell_type": "code",
   "execution_count": 64,
   "id": "1b9c2ae8-80e6-4001-bfab-473f0856fef1",
   "metadata": {},
   "outputs": [],
   "source": [
    "class Circle{ // Explain public, private, and default\n",
    "    private double radius;\n",
    "    Circle(){\n",
    "        radius = 10;\n",
    "    }\n",
    "    Circle(double r){\n",
    "        this.setRadius(r);\n",
    "    }\n",
    "    void setRadius(double r){\n",
    "        if(r >=0){\n",
    "            radius = r;\n",
    "        }\n",
    "        else{\n",
    "            System.out.print(\"Invalid radius\");\n",
    "        }\n",
    "        \n",
    "    }\n",
    "    private double getRadius(){\n",
    "        return this.radius;\n",
    "    }\n",
    "    double getArea(){\n",
    "        return Math.PI * radius * radius;\n",
    "    }\n",
    "    double getPerimeter(){\n",
    "        return 2 * Math.PI * radius;\n",
    "    }\n",
    "    \n",
    "}"
   ]
  },
  {
   "cell_type": "code",
   "execution_count": 65,
   "id": "75acaed0-8878-4f96-bd57-1f9822400f8d",
   "metadata": {},
   "outputs": [
    {
     "name": "stdout",
     "output_type": "stream",
     "text": [
      "Invalid radius"
     ]
    }
   ],
   "source": [
    "Circle c1 = new Circle(1);\n",
    "Circle c2 = new Circle(-3);\n",
    "Circle c3 = new Circle();"
   ]
  },
  {
   "cell_type": "code",
   "execution_count": 60,
   "id": "0dae83e2-2654-4027-8c0b-d3ed1d4a8d2e",
   "metadata": {},
   "outputs": [
    {
     "name": "stdout",
     "output_type": "stream",
     "text": [
      "Invalid radius"
     ]
    }
   ],
   "source": [
    "c2.setRadius(-1);"
   ]
  },
  {
   "cell_type": "code",
   "execution_count": 57,
   "id": "2714b7d0-feca-477a-93e1-5e13100f02b2",
   "metadata": {},
   "outputs": [
    {
     "ename": "CompilationException",
     "evalue": "",
     "output_type": "error",
     "traceback": [
      "\u001b[1m\u001b[30m|   \u001b[1m\u001b[30m\u001b[0m\u001b[1m\u001b[30m\u001b[41mc2.getRadius\u001b[0m\u001b[1m\u001b[30m()\u001b[0m",
      "\u001b[1m\u001b[31mgetRadius() has private access in Circle\u001b[0m",
      ""
     ]
    }
   ],
   "source": [
    "c2.getRadius()"
   ]
  },
  {
   "cell_type": "code",
   "execution_count": null,
   "id": "f0582165-e1a1-40f6-9c5a-3d0fd241ce2f",
   "metadata": {},
   "outputs": [],
   "source": []
  },
  {
   "cell_type": "code",
   "execution_count": null,
   "id": "1e925dc2-307e-4c75-9a4d-9f691a54a355",
   "metadata": {},
   "outputs": [],
   "source": []
  },
  {
   "cell_type": "code",
   "execution_count": 47,
   "id": "af40b3c1-00b3-4886-8109-d1ec4ab3f90c",
   "metadata": {},
   "outputs": [],
   "source": [
    "c1.setRadius(5); // show how it is changed if it was private"
   ]
  },
  {
   "cell_type": "code",
   "execution_count": 49,
   "id": "05f347b0-d1c9-49bf-9462-21ccea1c96d2",
   "metadata": {},
   "outputs": [
    {
     "ename": "CompilationException",
     "evalue": "",
     "output_type": "error",
     "traceback": [
      "\u001b[1m\u001b[30m|   \u001b[1m\u001b[30m\u001b[0m\u001b[1m\u001b[30m\u001b[41mc1.radius\u001b[0m\u001b[1m\u001b[30m // show how it is changed if it was private\u001b[0m",
      "\u001b[1m\u001b[31mradius has private access in Circle\u001b[0m",
      ""
     ]
    }
   ],
   "source": [
    "c1.radius // show how it is changed if it was private"
   ]
  },
  {
   "cell_type": "code",
   "execution_count": null,
   "id": "21a361da-d08c-4bdf-bf1d-cbac0a30a4d1",
   "metadata": {},
   "outputs": [],
   "source": []
  },
  {
   "cell_type": "code",
   "execution_count": null,
   "id": "36216cae-8f7a-4646-8e38-b820cd1e1a9e",
   "metadata": {},
   "outputs": [],
   "source": []
  },
  {
   "cell_type": "code",
   "execution_count": null,
   "id": "623302c4-eec4-44c1-b351-897492b9adbd",
   "metadata": {},
   "outputs": [],
   "source": []
  },
  {
   "cell_type": "code",
   "execution_count": null,
   "id": "8377547b-d042-4e6a-8526-1d73cb43044d",
   "metadata": {},
   "outputs": [],
   "source": []
  },
  {
   "cell_type": "markdown",
   "id": "3e260a54-1531-441c-9f22-e64079935fed",
   "metadata": {},
   "source": [
    "<img title=\"a title\" alt=\"Alt text\" src=\"lecture15Images/p24.png\">"
   ]
  },
  {
   "cell_type": "code",
   "execution_count": null,
   "id": "b4f89545-fa5a-47d6-bfcd-8d08cfd69126",
   "metadata": {},
   "outputs": [],
   "source": []
  },
  {
   "cell_type": "code",
   "execution_count": null,
   "id": "73b3052c-6ebe-40ed-98dd-dbb75faa6802",
   "metadata": {},
   "outputs": [],
   "source": []
  },
  {
   "cell_type": "code",
   "execution_count": null,
   "id": "8bc63822-37a5-4063-beca-67ff3485f7f5",
   "metadata": {},
   "outputs": [],
   "source": []
  },
  {
   "cell_type": "code",
   "execution_count": null,
   "id": "f17665be-6f62-44d6-a97b-15cb5f9a5003",
   "metadata": {},
   "outputs": [],
   "source": []
  },
  {
   "cell_type": "code",
   "execution_count": null,
   "id": "ef1d4ee1-88bd-41de-becf-6344ee1be338",
   "metadata": {},
   "outputs": [],
   "source": []
  },
  {
   "cell_type": "code",
   "execution_count": null,
   "id": "3be3d6e7-a089-4690-8a9f-9d754bafa975",
   "metadata": {},
   "outputs": [],
   "source": []
  },
  {
   "cell_type": "markdown",
   "id": "c43fb100-53eb-43fe-b963-f529a6617627",
   "metadata": {},
   "source": [
    "<img title=\"a title\" alt=\"Alt text\" src=\"lecture15Images/p25.png\">"
   ]
  },
  {
   "cell_type": "code",
   "execution_count": 70,
   "id": "4e0dc2da-2de4-4795-b162-c2410b2b48c3",
   "metadata": {},
   "outputs": [],
   "source": [
    "class Circle{ // Explain why we need to make attributes private\n",
    "    private double radius;\n",
    "    Circle(){\n",
    "        radius = 10;\n",
    "    }\n",
    "    Circle(double r){\n",
    "        //Add the check here as well\n",
    "        // Calling the setRadius here\n",
    "        radius = r;\n",
    "    }\n",
    "    void setRadius(double r){\n",
    "        // if(r >=0){\n",
    "            radius = r;\n",
    "        // }\n",
    "        // else { System.out.println(\"Invalid radius\");}\n",
    "    }\n",
    "    double getArea(){\n",
    "        return Math.PI * radius * radius;\n",
    "    }\n",
    "    double getPerimeter(){\n",
    "        return 2 * Math.PI * radius;\n",
    "    }\n",
    "    \n",
    "}"
   ]
  },
  {
   "cell_type": "code",
   "execution_count": 67,
   "id": "daa1092b-6031-472a-982c-96adcd70c7f7",
   "metadata": {},
   "outputs": [],
   "source": [
    "Circle c2 = new Circle(3);"
   ]
  },
  {
   "cell_type": "code",
   "execution_count": 69,
   "id": "7d2bdf8b-1a46-438f-8790-5a30df942349",
   "metadata": {},
   "outputs": [],
   "source": [
    "c2.setRadius(-1);"
   ]
  },
  {
   "cell_type": "code",
   "execution_count": null,
   "id": "201269e0-ec90-4be7-92e0-3f75a4f5974a",
   "metadata": {},
   "outputs": [],
   "source": []
  },
  {
   "cell_type": "code",
   "execution_count": null,
   "id": "8f45ebda-52c7-48c9-8dd6-a0dfd3229866",
   "metadata": {},
   "outputs": [],
   "source": []
  },
  {
   "cell_type": "code",
   "execution_count": null,
   "id": "109a9ef7-2420-4a16-97a0-8acc6d324876",
   "metadata": {},
   "outputs": [],
   "source": []
  },
  {
   "cell_type": "code",
   "execution_count": null,
   "id": "b698515d-ad36-46e3-bd07-d4d4ede0efe5",
   "metadata": {},
   "outputs": [],
   "source": []
  },
  {
   "cell_type": "markdown",
   "id": "30e66bd2-28ec-4882-82d7-5ee7c9be61a4",
   "metadata": {},
   "source": [
    "<img title=\"a title\" alt=\"Alt text\" src=\"lecture15Images/p26.png\">"
   ]
  },
  {
   "cell_type": "code",
   "execution_count": null,
   "id": "fd96ff15-c992-4263-963a-f090643833cb",
   "metadata": {},
   "outputs": [],
   "source": []
  },
  {
   "cell_type": "code",
   "execution_count": null,
   "id": "8de80209-4612-471d-9daf-b73c8946a4ce",
   "metadata": {},
   "outputs": [],
   "source": []
  },
  {
   "cell_type": "code",
   "execution_count": null,
   "id": "f2294d51-d343-42b1-92d8-2198bab5d7aa",
   "metadata": {},
   "outputs": [],
   "source": []
  },
  {
   "cell_type": "code",
   "execution_count": null,
   "id": "f83da93a-6e09-48ad-b152-8cdf089404bc",
   "metadata": {},
   "outputs": [],
   "source": []
  },
  {
   "cell_type": "code",
   "execution_count": null,
   "id": "e6fb43b0-21ca-4048-92ab-947b0ab9168a",
   "metadata": {},
   "outputs": [],
   "source": []
  },
  {
   "cell_type": "code",
   "execution_count": null,
   "id": "6283e433-1aaf-439b-bf02-3ec77da8bf65",
   "metadata": {},
   "outputs": [],
   "source": []
  },
  {
   "cell_type": "markdown",
   "id": "cd734b66-4649-4b65-8da4-799978fef860",
   "metadata": {},
   "source": [
    "<img title=\"a title\" alt=\"Alt text\" src=\"lecture15Images/p27.png\">"
   ]
  },
  {
   "cell_type": "code",
   "execution_count": null,
   "id": "e549a1e5-9a9c-4c50-a535-fcd788bbb551",
   "metadata": {},
   "outputs": [],
   "source": []
  },
  {
   "cell_type": "code",
   "execution_count": null,
   "id": "07272b7a-48b8-4465-9da0-4825a0935a8b",
   "metadata": {},
   "outputs": [],
   "source": []
  },
  {
   "cell_type": "code",
   "execution_count": null,
   "id": "01927ebc-4ba6-4ce8-9067-cdae4d005e2c",
   "metadata": {},
   "outputs": [],
   "source": []
  },
  {
   "cell_type": "code",
   "execution_count": null,
   "id": "b7218e41-e7ad-4921-bfaa-d275e2282b9f",
   "metadata": {},
   "outputs": [],
   "source": []
  },
  {
   "cell_type": "code",
   "execution_count": null,
   "id": "9a6aad71-eeef-410d-bfa2-45123cbe7bf3",
   "metadata": {},
   "outputs": [],
   "source": []
  },
  {
   "cell_type": "markdown",
   "id": "2860b847-f4c8-49ab-abd7-6887098a114a",
   "metadata": {},
   "source": [
    "<img title=\"a title\" alt=\"Alt text\" src=\"lecture15Images/p28.png\">"
   ]
  },
  {
   "cell_type": "code",
   "execution_count": null,
   "id": "978abcc6-0fd2-4544-ad07-b6f6f4c94c44",
   "metadata": {},
   "outputs": [],
   "source": []
  },
  {
   "cell_type": "code",
   "execution_count": null,
   "id": "04bd3942-b9e4-47a1-958f-0a57bb982e8b",
   "metadata": {},
   "outputs": [],
   "source": []
  },
  {
   "cell_type": "code",
   "execution_count": null,
   "id": "f2c33195-13c4-40c7-95cc-8c798dbb6fc6",
   "metadata": {},
   "outputs": [],
   "source": []
  },
  {
   "cell_type": "code",
   "execution_count": null,
   "id": "ecfa3344-717f-4f1f-9075-65ce804982ac",
   "metadata": {},
   "outputs": [],
   "source": []
  },
  {
   "cell_type": "code",
   "execution_count": null,
   "id": "f237b8f5-b407-4730-ad1b-90d12252e4f2",
   "metadata": {},
   "outputs": [],
   "source": []
  },
  {
   "cell_type": "markdown",
   "id": "213a5658-5ffc-480a-80c5-fb938277ff6f",
   "metadata": {},
   "source": [
    "<img title=\"a title\" alt=\"Alt text\" src=\"lecture15Images/p29.png\">"
   ]
  },
  {
   "cell_type": "code",
   "execution_count": null,
   "id": "56538ed3-434b-4a04-b9ba-428994d9cc04",
   "metadata": {},
   "outputs": [],
   "source": []
  },
  {
   "cell_type": "code",
   "execution_count": null,
   "id": "0aabb0f3-bb7e-4ff3-a178-6451b45d8172",
   "metadata": {},
   "outputs": [],
   "source": []
  },
  {
   "cell_type": "code",
   "execution_count": null,
   "id": "324f1d16-e40a-4dbc-be37-9808299f5fc0",
   "metadata": {},
   "outputs": [],
   "source": []
  },
  {
   "cell_type": "code",
   "execution_count": null,
   "id": "ce99d790-0542-4282-b125-ecf2d2b5d675",
   "metadata": {},
   "outputs": [],
   "source": []
  },
  {
   "cell_type": "markdown",
   "id": "4bcb4886-20ad-4e90-ad33-cccf26ce594e",
   "metadata": {},
   "source": [
    "<img title=\"a title\" alt=\"Alt text\" src=\"lecture15Images/p30.png\">"
   ]
  },
  {
   "cell_type": "markdown",
   "id": "e7ce95c0-e0ea-4111-a24d-e00647ad4c53",
   "metadata": {},
   "source": [
    "<img title=\"a title\" alt=\"Alt text\" src=\"lecture15Images/p31.png\">"
   ]
  },
  {
   "cell_type": "markdown",
   "id": "f66c22bc-a566-4def-99ee-decd047f02e4",
   "metadata": {},
   "source": [
    "<img title=\"a title\" alt=\"Alt text\" src=\"lecture15Images/p21.png\">"
   ]
  },
  {
   "cell_type": "markdown",
   "id": "f932e375-8db9-48b6-b469-245d145df9a9",
   "metadata": {},
   "source": [
    "<img title=\"a title\" alt=\"Alt text\" src=\"lecture15Images/p21.png\">"
   ]
  },
  {
   "cell_type": "markdown",
   "id": "a5356ef0-119f-46ef-ac0f-538a1ddf7818",
   "metadata": {},
   "source": [
    "<img title=\"a title\" alt=\"Alt text\" src=\"lecture15Images/p21.png\">"
   ]
  },
  {
   "cell_type": "code",
   "execution_count": null,
   "id": "79dcc785-0492-4d40-a364-b7bd23f8a7c1",
   "metadata": {},
   "outputs": [],
   "source": []
  }
 ],
 "metadata": {
  "kernelspec": {
   "display_name": "Java",
   "language": "java",
   "name": "java"
  },
  "language_info": {
   "codemirror_mode": "java",
   "file_extension": ".jshell",
   "mimetype": "text/x-java-source",
   "name": "Java",
   "pygments_lexer": "java",
   "version": "21+35-LTS-2513"
  }
 },
 "nbformat": 4,
 "nbformat_minor": 5
}
